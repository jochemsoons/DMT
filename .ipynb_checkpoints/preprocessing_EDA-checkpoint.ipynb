{
 "cells": [
  {
   "cell_type": "code",
   "execution_count": 1,
   "id": "36e64704",
   "metadata": {},
   "outputs": [],
   "source": [
    "import os\n",
    "import pickle\n",
    "\n",
    "import csv\n",
    "import numpy as np\n",
    "import pandas as pd\n",
    "import datetime\n",
    "import seaborn as sns\n",
    "import matplotlib.pyplot as plt\n",
    "from sklearn import preprocessing"
   ]
  },
  {
   "cell_type": "code",
   "execution_count": 2,
   "id": "78547d43",
   "metadata": {},
   "outputs": [],
   "source": [
    "df_train = pd.read_csv('data/training_set_VU_DM.csv')\n",
    "df_test = pd.read_csv('data/test_set_VU_DM.csv')"
   ]
  },
  {
   "cell_type": "code",
   "execution_count": 3,
   "id": "3aea69b6",
   "metadata": {},
   "outputs": [
    {
     "name": "stdout",
     "output_type": "stream",
     "text": [
      "variables Index(['srch_id', 'date_time', 'site_id', 'visitor_location_country_id',\n",
      "       'visitor_hist_starrating', 'visitor_hist_adr_usd', 'prop_country_id',\n",
      "       'prop_id', 'prop_starrating', 'prop_review_score', 'prop_brand_bool',\n",
      "       'prop_location_score1', 'prop_location_score2',\n",
      "       'prop_log_historical_price', 'position', 'price_usd', 'promotion_flag',\n",
      "       'srch_destination_id', 'srch_length_of_stay', 'srch_booking_window',\n",
      "       'srch_adults_count', 'srch_children_count', 'srch_room_count',\n",
      "       'srch_saturday_night_bool', 'srch_query_affinity_score',\n",
      "       'orig_destination_distance', 'random_bool', 'comp1_rate', 'comp1_inv',\n",
      "       'comp1_rate_percent_diff', 'comp2_rate', 'comp2_inv',\n",
      "       'comp2_rate_percent_diff', 'comp3_rate', 'comp3_inv',\n",
      "       'comp3_rate_percent_diff', 'comp4_rate', 'comp4_inv',\n",
      "       'comp4_rate_percent_diff', 'comp5_rate', 'comp5_inv',\n",
      "       'comp5_rate_percent_diff', 'comp6_rate', 'comp6_inv',\n",
      "       'comp6_rate_percent_diff', 'comp7_rate', 'comp7_inv',\n",
      "       'comp7_rate_percent_diff', 'comp8_rate', 'comp8_inv',\n",
      "       'comp8_rate_percent_diff', 'click_bool', 'gross_bookings_usd',\n",
      "       'booking_bool'],\n",
      "      dtype='object')\n",
      "shape of dataframe (4958347, 54)\n",
      "# of logs 4958347\n",
      "# of not clicked 4736468\n",
      "# of clicked 221879\n",
      "# of clicked and not booked 83489\n",
      "# of clicked and booked 138390\n"
     ]
    }
   ],
   "source": [
    "print('variables', df_train.columns)\n",
    "print('shape of dataframe', df_train.shape)\n",
    "print('# of logs',len(df_train))\n",
    "print('# of not clicked', len(df_train.loc[(df_train['click_bool']==0)]))\n",
    "print('# of clicked', len(df_train.loc[(df_train['click_bool']==1)]))\n",
    "print('# of clicked and not booked', len(df_train.loc[(df_train['click_bool']==1) & (df_train['booking_bool']==0)]))\n",
    "print('# of clicked and booked', len(df_train.loc[(df_train['click_bool']==1) & (df_train['booking_bool']==1)]))"
   ]
  },
  {
   "cell_type": "code",
   "execution_count": 4,
   "id": "5aa32e94",
   "metadata": {},
   "outputs": [
    {
     "name": "stdout",
     "output_type": "stream",
     "text": [
      "(4958347, 48) (4958347,) (4958347,)\n"
     ]
    }
   ],
   "source": [
    "def create_labels(df):\n",
    "    if df[\"booking_bool\"] == 1:\n",
    "        score = 5\n",
    "    elif df[\"click_bool\"] == 1:\n",
    "        score = 1\n",
    "    else:\n",
    "        score = 0\n",
    "    return score\n",
    "\n",
    "def preprocess_data(df, subset='train'):\n",
    "    # Remove date_time\n",
    "    df.drop('date_time',axis = 1, inplace = True)\n",
    "    \n",
    "    # treatment for missing values\n",
    "    df.orig_destination_distance.fillna(-10,inplace = True)\n",
    "\n",
    "    # Replace NULL with -10 in place\n",
    "    df.visitor_hist_starrating.fillna(-10,inplace = True)\n",
    "\n",
    "    df.visitor_hist_adr_usd.fillna(-10,inplace = True)\n",
    "\n",
    "    df.prop_review_score.fillna(-10, inplace = True)\n",
    "\n",
    "    # Replace a value less than the minimum of training + test data\n",
    "    df.srch_query_affinity_score.fillna(-350, inplace = True)\n",
    "\n",
    "    df.prop_location_score2.fillna(0, inplace = True)\n",
    "\n",
    "    #Replace NULL of competitiors with 0 in place\n",
    "    for i in range(1,9):\n",
    "        rate = 'comp' + str(i) + '_rate'\n",
    "        inv = 'comp' + str(i) + '_inv'\n",
    "        diff = 'comp' + str(i) + '_rate_percent_diff'\n",
    "        df[rate].fillna(0,inplace = True)\n",
    "        df[inv].fillna(0,inplace = True)\n",
    "        df[diff].fillna(0,inplace = True)\n",
    "    \n",
    "    qids = df['srch_id']\n",
    "    df.drop(['srch_id'], axis = 1, inplace = True)\n",
    "    if subset == 'train':\n",
    "        labels = df.apply(create_labels , axis=1)\n",
    "        df.drop(['booking_bool','click_bool', 'position','gross_bookings_usd'], axis = 1, inplace = True)\n",
    "        return df.to_numpy(), np.asarray(labels), np.asarray(qids)\n",
    "    else:\n",
    "        return df.to_numpy(), np.asarray(qids)\n",
    "        \n",
    "\n",
    "df_copy = df_train\n",
    "# print(df.columns)\n",
    "X, y, qids = preprocess_data(df_copy, subset='train')\n",
    "print(X.shape, y.shape, qids.shape)\n"
   ]
  },
  {
   "cell_type": "code",
   "execution_count": 6,
   "id": "57281958",
   "metadata": {},
   "outputs": [
    {
     "ename": "ModuleNotFoundError",
     "evalue": "No module named 'LambdaRankNN'",
     "output_type": "error",
     "traceback": [
      "\u001b[0;31m---------------------------------------------------------------------------\u001b[0m",
      "\u001b[0;31mModuleNotFoundError\u001b[0m                       Traceback (most recent call last)",
      "\u001b[0;32m<ipython-input-6-348d3d9b5390>\u001b[0m in \u001b[0;36m<module>\u001b[0;34m\u001b[0m\n\u001b[0;32m----> 1\u001b[0;31m \u001b[0;32mfrom\u001b[0m \u001b[0mLambdaRankNN\u001b[0m \u001b[0;32mimport\u001b[0m \u001b[0mLambdaRankNN\u001b[0m\u001b[0;34m\u001b[0m\u001b[0;34m\u001b[0m\u001b[0m\n\u001b[0m\u001b[1;32m      2\u001b[0m \u001b[0mprint\u001b[0m\u001b[0;34m(\u001b[0m\u001b[0mdf\u001b[0m\u001b[0;34m)\u001b[0m\u001b[0;34m\u001b[0m\u001b[0;34m\u001b[0m\u001b[0m\n\u001b[1;32m      3\u001b[0m \u001b[0;34m\u001b[0m\u001b[0m\n\u001b[1;32m      4\u001b[0m \u001b[0;31m# train model\u001b[0m\u001b[0;34m\u001b[0m\u001b[0;34m\u001b[0m\u001b[0;34m\u001b[0m\u001b[0m\n\u001b[1;32m      5\u001b[0m \u001b[0mranker\u001b[0m \u001b[0;34m=\u001b[0m \u001b[0mLambdaRankNN\u001b[0m\u001b[0;34m(\u001b[0m\u001b[0minput_size\u001b[0m\u001b[0;34m=\u001b[0m\u001b[0mX\u001b[0m\u001b[0;34m.\u001b[0m\u001b[0mshape\u001b[0m\u001b[0;34m[\u001b[0m\u001b[0;36m1\u001b[0m\u001b[0;34m]\u001b[0m\u001b[0;34m,\u001b[0m \u001b[0mhidden_layer_sizes\u001b[0m\u001b[0;34m=\u001b[0m\u001b[0;34m(\u001b[0m\u001b[0;36m128\u001b[0m\u001b[0;34m,\u001b[0m\u001b[0;36m256\u001b[0m\u001b[0;34m,\u001b[0m\u001b[0;34m)\u001b[0m\u001b[0;34m,\u001b[0m \u001b[0mactivation\u001b[0m\u001b[0;34m=\u001b[0m\u001b[0;34m(\u001b[0m\u001b[0;34m'relu'\u001b[0m\u001b[0;34m,\u001b[0m \u001b[0;34m'relu'\u001b[0m\u001b[0;34m,\u001b[0m\u001b[0;34m)\u001b[0m\u001b[0;34m,\u001b[0m \u001b[0msolver\u001b[0m\u001b[0;34m=\u001b[0m\u001b[0;34m'adam'\u001b[0m\u001b[0;34m)\u001b[0m\u001b[0;34m\u001b[0m\u001b[0;34m\u001b[0m\u001b[0m\n",
      "\u001b[0;31mModuleNotFoundError\u001b[0m: No module named 'LambdaRankNN'"
     ]
    }
   ],
   "source": [
    "from LambdaRankNN import LambdaRankNN\n",
    "print(df)\n",
    "\n",
    "# train model\n",
    "ranker = LambdaRankNN(input_size=X.shape[1], hidden_layer_sizes=(128,256,), activation=('relu', 'relu',), solver='adam')\n",
    "ranker.fit(X, y, qids, epochs=1)\n",
    "y_pred = ranker.predict(X)\n",
    "# print(y_pred)\n",
    "# print(y_pred.shape)\n",
    "ranker.evaluate(X, y, qids, eval_at=5)\n"
   ]
  },
  {
   "cell_type": "code",
   "execution_count": null,
   "id": "69ef7187",
   "metadata": {},
   "outputs": [],
   "source": []
  },
  {
   "cell_type": "code",
   "execution_count": null,
   "id": "6d3d83db",
   "metadata": {},
   "outputs": [],
   "source": []
  },
  {
   "cell_type": "code",
   "execution_count": null,
   "id": "3423da03",
   "metadata": {},
   "outputs": [],
   "source": []
  }
 ],
 "metadata": {
  "kernelspec": {
   "display_name": "Python 3",
   "language": "python",
   "name": "python3"
  },
  "language_info": {
   "codemirror_mode": {
    "name": "ipython",
    "version": 3
   },
   "file_extension": ".py",
   "mimetype": "text/x-python",
   "name": "python",
   "nbconvert_exporter": "python",
   "pygments_lexer": "ipython3",
   "version": "3.9.2"
  }
 },
 "nbformat": 4,
 "nbformat_minor": 5
}
